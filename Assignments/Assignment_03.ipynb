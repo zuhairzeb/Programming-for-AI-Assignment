{
  "nbformat": 4,
  "nbformat_minor": 0,
  "metadata": {
    "colab": {
      "provenance": [],
      "authorship_tag": "ABX9TyMPda7/pA5YsKsI9Pq0YPwq",
      "include_colab_link": true
    },
    "kernelspec": {
      "name": "python3",
      "display_name": "Python 3"
    },
    "language_info": {
      "name": "python"
    }
  },
  "cells": [
    {
      "cell_type": "markdown",
      "metadata": {
        "id": "view-in-github",
        "colab_type": "text"
      },
      "source": [
        "<a href=\"https://colab.research.google.com/github/zuhairzeb/Programming-for-AI-Assignment/blob/main/Assignment_03.ipynb\" target=\"_parent\"><img src=\"https://colab.research.google.com/assets/colab-badge.svg\" alt=\"Open In Colab\"/></a>"
      ]
    },
    {
      "cell_type": "markdown",
      "source": [
        "**Name:** Muhammad Zuhair Zeb  \n",
        "**Department:** AI  \n",
        "**Roll No:** 232542  \n",
        "**Subject:** Programming for AI\n"
      ],
      "metadata": {
        "id": "1hQJiDLUElnZ"
      }
    },
    {
      "cell_type": "markdown",
      "source": [
        "# Topic:\n",
        "Search a dataset using a feature set containing an overfitting problem. Solve the overfitting problem using Logistic Regression (LR) with and without regularization term, and compare the result."
      ],
      "metadata": {
        "id": "ipiX9T2xF4s0"
      }
    },
    {
      "cell_type": "markdown",
      "source": [
        "**Solution:**\n",
        "\n",
        "*Step 1:*  Select Dataset\n",
        "I used the Iris dataset because it is simple and has features that can lead to overfitting if not handled properly.\n",
        "\n",
        "*Step 2:*  Split the dataset\n",
        "Split the data into training and testing using `train_test_split.`"
      ],
      "metadata": {
        "id": "VlaK-eW4GOck"
      }
    },
    {
      "cell_type": "code",
      "source": [
        "from sklearn.datasets import load_iris\n",
        "from sklearn.model_selection import train_test_split\n",
        "from sklearn.linear_model import LogisticRegression\n",
        "from sklearn.metrics import accuracy_score\n",
        "\n",
        "iris = load_iris()\n",
        "X = iris.data\n",
        "y = iris.target\n",
        "\n",
        "X_train, X_test, y_train, y_test = train_test_split(X, y, test_size=0.3, random_state=42)\n"
      ],
      "metadata": {
        "id": "LTGB-XllGfmR"
      },
      "execution_count": null,
      "outputs": []
    },
    {
      "cell_type": "markdown",
      "source": [
        "*Step 3:*  **Logistic Regression without Regularization**\n",
        "Set `penalty='none'.`"
      ],
      "metadata": {
        "id": "Iz7W_AFvGno_"
      }
    },
    {
      "cell_type": "code",
      "source": [
        "lr_no_reg = LogisticRegression(penalty=None, max_iter=1000) # Change 'none' to None\n",
        "lr_no_reg.fit(X_train, y_train)\n",
        "pred_no_reg = lr_no_reg.predict(X_test)\n",
        "acc_no_reg = accuracy_score(y_test, pred_no_reg)"
      ],
      "metadata": {
        "id": "ZihGCOMFG0hV"
      },
      "execution_count": null,
      "outputs": []
    },
    {
      "cell_type": "markdown",
      "source": [
        "*Step 4:* **Logistic Regression with Regularization**\n",
        "Using `L2` regularization (default)."
      ],
      "metadata": {
        "id": "FCP_ZaBUG-Z4"
      }
    },
    {
      "cell_type": "code",
      "source": [
        "lr_with_reg = LogisticRegression()\n",
        "lr_with_reg.fit(X_train, y_train)\n",
        "pred_with_reg = lr_with_reg.predict(X_test)\n",
        "acc_with_reg = accuracy_score(y_test, pred_with_reg)\n"
      ],
      "metadata": {
        "id": "4yHq_x40HMub"
      },
      "execution_count": null,
      "outputs": []
    },
    {
      "cell_type": "markdown",
      "source": [
        "*Step 5:* **Comparison of Results**"
      ],
      "metadata": {
        "id": "K3MtD0-LHPla"
      }
    },
    {
      "cell_type": "code",
      "source": [
        "print(\"Accuracy without Regularization:\", acc_no_reg)\n",
        "print(\"Accuracy with Regularization:\", acc_with_reg)\n"
      ],
      "metadata": {
        "colab": {
          "base_uri": "https://localhost:8080/"
        },
        "id": "En84YTIbHPLg",
        "outputId": "1f1e4432-e862-420b-a0fc-9d88b15e17f8"
      },
      "execution_count": null,
      "outputs": [
        {
          "output_type": "stream",
          "name": "stdout",
          "text": [
            "Accuracy without Regularization: 1.0\n",
            "Accuracy with Regularization: 1.0\n"
          ]
        }
      ]
    }
  ]
}