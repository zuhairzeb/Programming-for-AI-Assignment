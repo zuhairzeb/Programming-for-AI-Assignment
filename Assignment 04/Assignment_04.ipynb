{
  "nbformat": 4,
  "nbformat_minor": 0,
  "metadata": {
    "colab": {
      "provenance": []
    },
    "kernelspec": {
      "name": "python3",
      "display_name": "Python 3"
    },
    "language_info": {
      "name": "python"
    }
  },
  "cells": [
    {
      "cell_type": "markdown",
      "source": [
        "# Make a problem of logistics regression with regulization and without regulization"
      ],
      "metadata": {
        "id": "g16-xuQN_4sC"
      }
    },
    {
      "cell_type": "markdown",
      "source": [
        "**Name:** Muhammad Zuhair Zeb  \n",
        "**Department:** AI  \n",
        "**Roll No:** 232542  \n",
        "**Subject:** Programming for AI\n"
      ],
      "metadata": {
        "id": "ptl6a-DGAAwI"
      }
    },
    {
      "cell_type": "markdown",
      "source": [
        "**1. Problem Description (in comments)**"
      ],
      "metadata": {
        "id": "4N7a1eeTBB_A"
      }
    },
    {
      "cell_type": "code",
      "execution_count": 1,
      "metadata": {
        "id": "bSKfJXSSFTwA"
      },
      "outputs": [],
      "source": [
        "# Problem:\n",
        "# Predict whether a user will buy a product or not based on various features.\n",
        "# The dataset includes some important and some noisy features."
      ]
    },
    {
      "cell_type": "markdown",
      "source": [
        "**2. Dataset Creation**"
      ],
      "metadata": {
        "id": "egTOW2P1BJAN"
      }
    },
    {
      "cell_type": "code",
      "source": [
        "from sklearn.datasets import make_classification\n",
        "X, y = make_classification(n_samples=1000, n_features=15, n_informative=5, n_redundant=0, random_state=42)"
      ],
      "metadata": {
        "id": "ExEytU5IBLTE"
      },
      "execution_count": 3,
      "outputs": []
    },
    {
      "cell_type": "markdown",
      "source": [
        "**3. Train-Test Split**"
      ],
      "metadata": {
        "id": "o9VO95MgBQcv"
      }
    },
    {
      "cell_type": "code",
      "source": [
        "from sklearn.model_selection import train_test_split\n",
        "X_train, X_test, y_train, y_test = train_test_split(X, y, test_size=0.3, random_state=42)"
      ],
      "metadata": {
        "id": "9DG5StkRBPrQ"
      },
      "execution_count": 4,
      "outputs": []
    },
    {
      "cell_type": "markdown",
      "source": [
        "**4. Logistic Regression Without Regularization**"
      ],
      "metadata": {
        "id": "7wf1VxfEBZ1g"
      }
    },
    {
      "cell_type": "code",
      "source": [
        "from sklearn.linear_model import LogisticRegression\n",
        "from sklearn.metrics import accuracy_score\n",
        "\n",
        "model_no_reg = LogisticRegression(C=1e6, penalty='l2', solver='lbfgs', max_iter=1000)\n",
        "model_no_reg.fit(X_train, y_train)\n",
        "print(\"Accuracy without regularization:\", accuracy_score(y_test, model_no_reg.predict(X_test)))"
      ],
      "metadata": {
        "colab": {
          "base_uri": "https://localhost:8080/"
        },
        "id": "AOccvYL6BdU8",
        "outputId": "2543ea60-cf98-4fdc-9347-87c8074d1047"
      },
      "execution_count": 5,
      "outputs": [
        {
          "output_type": "stream",
          "name": "stdout",
          "text": [
            "Accuracy without regularization: 0.83\n"
          ]
        }
      ]
    },
    {
      "cell_type": "markdown",
      "source": [
        "**5. Logistic Regression With Regularization**"
      ],
      "metadata": {
        "id": "eJMAtazQBiTI"
      }
    },
    {
      "cell_type": "code",
      "source": [
        "model_with_reg = LogisticRegression(C=1.0, penalty='l2', solver='lbfgs', max_iter=1000)\n",
        "model_with_reg.fit(X_train, y_train)\n",
        "print(\"Accuracy with regularization:\", accuracy_score(y_test, model_with_reg.predict(X_test)))"
      ],
      "metadata": {
        "colab": {
          "base_uri": "https://localhost:8080/"
        },
        "id": "CXuODzbmBmVy",
        "outputId": "4009c5fb-ad31-46f0-adef-14c4059f73b8"
      },
      "execution_count": 6,
      "outputs": [
        {
          "output_type": "stream",
          "name": "stdout",
          "text": [
            "Accuracy with regularization: 0.83\n"
          ]
        }
      ]
    },
    {
      "cell_type": "markdown",
      "source": [
        "**6. Conclusion (in comments)**"
      ],
      "metadata": {
        "id": "rpTwjwyeBrR2"
      }
    },
    {
      "cell_type": "code",
      "source": [
        "# Regularization improves the model's performance by reducing overfitting\n",
        "# Accuracy with regularization is usually more stable and reliable"
      ],
      "metadata": {
        "id": "JBN0g2qmBvIW"
      },
      "execution_count": 7,
      "outputs": []
    }
  ]
}